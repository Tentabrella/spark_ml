{
 "cells": [
  {
   "cell_type": "markdown",
   "metadata": {},
   "source": [
    "NYC 311's mission is to provide the public with quick and easy access to all New York City government services and information while offering the best customer service. \n",
    "\n",
    "The agency responds to the request, addresses it, and then closes it."
   ]
  },
  {
   "cell_type": "code",
   "execution_count": 1,
   "metadata": {},
   "outputs": [],
   "source": [
    "from pyspark import SparkContext\n",
    "sc = SparkContext()\n",
    "from pyspark.sql import SQLContext\n",
    "from pyspark.sql.types import Row, StructField, StructType, StringType, IntegerType\n",
    "from pyspark.sql import SparkSession\n",
    "spark = SparkSession(sc) \n",
    "sqlContext = SQLContext(sc)\n",
    "import pyspark.sql.functions as F"
   ]
  },
  {
   "cell_type": "markdown",
   "metadata": {},
   "source": [
    "### 阅读数据"
   ]
  },
  {
   "cell_type": "code",
   "execution_count": 3,
   "metadata": {
    "scrolled": true
   },
   "outputs": [],
   "source": [
    "df = spark.read.csv('../data/311_Service_Request.csv', header = True)"
   ]
  },
  {
   "cell_type": "code",
   "execution_count": 4,
   "metadata": {
    "scrolled": true
   },
   "outputs": [
    {
     "data": {
      "text/plain": [
       "['Unique Key',\n",
       " 'Created Date',\n",
       " 'Closed Date',\n",
       " 'Agency',\n",
       " 'Agency Name',\n",
       " 'Complaint Type',\n",
       " 'Descriptor',\n",
       " 'Location Type',\n",
       " 'Incident Zip',\n",
       " 'Incident Address',\n",
       " 'Street Name',\n",
       " 'Cross Street 1',\n",
       " 'Cross Street 2',\n",
       " 'Intersection Street 1',\n",
       " 'Intersection Street 2',\n",
       " 'Address Type',\n",
       " 'City',\n",
       " 'Landmark',\n",
       " 'Facility Type',\n",
       " 'Status',\n",
       " 'Due Date',\n",
       " 'Resolution Description',\n",
       " 'Resolution Action Updated Date',\n",
       " 'Community Board',\n",
       " 'Borough',\n",
       " 'X Coordinate (State Plane)',\n",
       " 'Y Coordinate (State Plane)',\n",
       " 'Park Facility Name',\n",
       " 'Park Borough',\n",
       " 'School Name',\n",
       " 'School Number',\n",
       " 'School Region',\n",
       " 'School Code',\n",
       " 'School Phone Number',\n",
       " 'School Address',\n",
       " 'School City',\n",
       " 'School State',\n",
       " 'School Zip',\n",
       " 'School Not Found',\n",
       " 'School or Citywide Complaint',\n",
       " 'Vehicle Type',\n",
       " 'Taxi Company Borough',\n",
       " 'Taxi Pick Up Location',\n",
       " 'Bridge Highway Name',\n",
       " 'Bridge Highway Direction',\n",
       " 'Road Ramp',\n",
       " 'Bridge Highway Segment',\n",
       " 'Garage Lot Name',\n",
       " 'Ferry Direction',\n",
       " 'Ferry Terminal Name',\n",
       " 'Latitude',\n",
       " 'Longitude',\n",
       " 'Location']"
      ]
     },
     "execution_count": 4,
     "metadata": {},
     "output_type": "execute_result"
    }
   ],
   "source": [
    "df.columns"
   ]
  },
  {
   "cell_type": "code",
   "execution_count": 5,
   "metadata": {},
   "outputs": [
    {
     "name": "stdout",
     "output_type": "stream",
     "text": [
      "+----------+--------------------+-------------+------+--------------------+--------------------+--------------------+---------------+------------+--------------------+----------------+---------------+---------------+---------------------+---------------------+------------+--------+--------+-------------+------+-------------+----------------------+------------------------------+---------------+---------+--------------------------+--------------------------+------------------+------------+-----------+-------------+-------------+-----------+-------------------+--------------+-----------+------------+-----------+----------------+----------------------------+------------+--------------------+---------------------+-------------------+------------------------+---------+----------------------+---------------+---------------+-------------------+-----------+------------+--------------------+\n",
      "|Unique Key|        Created Date|  Closed Date|Agency|         Agency Name|      Complaint Type|          Descriptor|  Location Type|Incident Zip|    Incident Address|     Street Name| Cross Street 1| Cross Street 2|Intersection Street 1|Intersection Street 2|Address Type|    City|Landmark|Facility Type|Status|     Due Date|Resolution Description|Resolution Action Updated Date|Community Board|  Borough|X Coordinate (State Plane)|Y Coordinate (State Plane)|Park Facility Name|Park Borough|School Name|School Number|School Region|School Code|School Phone Number|School Address|School City|School State| School Zip|School Not Found|School or Citywide Complaint|Vehicle Type|Taxi Company Borough|Taxi Pick Up Location|Bridge Highway Name|Bridge Highway Direction|Road Ramp|Bridge Highway Segment|Garage Lot Name|Ferry Direction|Ferry Terminal Name|   Latitude|   Longitude|            Location|\n",
      "+----------+--------------------+-------------+------+--------------------+--------------------+--------------------+---------------+------------+--------------------+----------------+---------------+---------------+---------------------+---------------------+------------+--------+--------+-------------+------+-------------+----------------------+------------------------------+---------------+---------+--------------------------+--------------------------+------------------+------------+-----------+-------------+-------------+-----------+-------------------+--------------+-----------+------------+-----------+----------------+----------------------------+------------+--------------------+---------------------+-------------------+------------------------+---------+----------------------+---------------+---------------+-------------------+-----------+------------+--------------------+\n",
      "|  32310363|12/31/2015 11:59:...|01-01-16 0:55|  NYPD|New York City Pol...|Noise - Street/Si...|    Loud Music/Party|Street/Sidewalk|       10034| 71 VERMILYEA AVENUE|VERMILYEA AVENUE| ACADEMY STREET|WEST 204 STREET|                 null|                 null|     ADDRESS|NEW YORK|    null|     Precinct|Closed|01-01-16 7:59|  The Police Depart...|                 01-01-16 0:55|   12 MANHATTAN|MANHATTAN|                   1005409|                    254678|       Unspecified|   MANHATTAN|Unspecified|  Unspecified|  Unspecified|Unspecified|        Unspecified|   Unspecified|Unspecified| Unspecified|Unspecified|               N|                        null|        null|                null|                 null|               null|                    null|     null|                  null|           null|           null|               null|40.86568154|-73.92350096|(40.8656815363376...|\n",
      "|  32309934|12/31/2015 11:59:...|01-01-16 1:26|  NYPD|New York City Pol...|    Blocked Driveway|           No Access|Street/Sidewalk|       11105|     27-07 23 AVENUE|       23 AVENUE|      27 STREET|      28 STREET|                 null|                 null|     ADDRESS| ASTORIA|    null|     Precinct|Closed|01-01-16 7:59|  The Police Depart...|                 01-01-16 1:26|      01 QUEENS|   QUEENS|                   1007766|                    221986|       Unspecified|      QUEENS|Unspecified|  Unspecified|  Unspecified|Unspecified|        Unspecified|   Unspecified|Unspecified| Unspecified|Unspecified|               N|                        null|        null|                null|                 null|               null|                    null|     null|                  null|           null|           null|               null|40.77594531|-73.91509394|(40.7759453123210...|\n",
      "|  32309159|12/31/2015 11:59:...|01-01-16 4:51|  NYPD|New York City Pol...|    Blocked Driveway|           No Access|Street/Sidewalk|       10458|2897 VALENTINE AV...|VALENTINE AVENUE|EAST 198 STREET|EAST 199 STREET|                 null|                 null|     ADDRESS|   BRONX|    null|     Precinct|Closed|01-01-16 7:59|  The Police Depart...|                 01-01-16 4:51|       07 BRONX|    BRONX|                   1015081|                    256380|       Unspecified|       BRONX|Unspecified|  Unspecified|  Unspecified|Unspecified|        Unspecified|   Unspecified|Unspecified| Unspecified|Unspecified|               N|                        null|        null|                null|                 null|               null|                    null|     null|                  null|           null|           null|               null|40.87032452|-73.88852464|(40.8703245221114...|\n",
      "|  32305098|12/31/2015 11:57:...|01-01-16 7:43|  NYPD|New York City Pol...|     Illegal Parking|Commercial Overni...|Street/Sidewalk|       10461| 2940 BAISLEY AVENUE|  BAISLEY AVENUE|  EDISON AVENUE|       B STREET|                 null|                 null|     ADDRESS|   BRONX|    null|     Precinct|Closed|01-01-16 7:57|  The Police Depart...|                 01-01-16 7:43|       10 BRONX|    BRONX|                   1031740|                    243899|       Unspecified|       BRONX|Unspecified|  Unspecified|  Unspecified|Unspecified|        Unspecified|   Unspecified|Unspecified| Unspecified|Unspecified|               N|                        null|        null|                null|                 null|               null|                    null|     null|                  null|           null|           null|               null|40.83599405| -73.8283794|(40.8359940468308...|\n",
      "|  32306529|12/31/2015 11:56:...|01-01-16 3:24|  NYPD|New York City Pol...|     Illegal Parking|    Blocked Sidewalk|Street/Sidewalk|       11373|       87-14 57 ROAD|         57 ROAD| SEABURY STREET|  HOFFMAN DRIVE|                 null|                 null|     ADDRESS|ELMHURST|    null|     Precinct|Closed|01-01-16 7:56|  The Police Depart...|                 01-01-16 3:24|      04 QUEENS|   QUEENS|                   1019123|                    206375|       Unspecified|      QUEENS|Unspecified|  Unspecified|  Unspecified|Unspecified|        Unspecified|   Unspecified|Unspecified| Unspecified|Unspecified|               N|                        null|        null|                null|                 null|               null|                    null|     null|                  null|           null|           null|               null|40.73305962|-73.87416976|(40.7330596189568...|\n",
      "+----------+--------------------+-------------+------+--------------------+--------------------+--------------------+---------------+------------+--------------------+----------------+---------------+---------------+---------------------+---------------------+------------+--------+--------+-------------+------+-------------+----------------------+------------------------------+---------------+---------+--------------------------+--------------------------+------------------+------------+-----------+-------------+-------------+-----------+-------------------+--------------+-----------+------------+-----------+----------------+----------------------------+------------+--------------------+---------------------+-------------------+------------------------+---------+----------------------+---------------+---------------+-------------------+-----------+------------+--------------------+\n",
      "only showing top 5 rows\n",
      "\n"
     ]
    }
   ],
   "source": [
    "df.show(5)\n",
    "# 没有需要转换类型的数据"
   ]
  },
  {
   "cell_type": "code",
   "execution_count": 6,
   "metadata": {
    "scrolled": true
   },
   "outputs": [],
   "source": [
    "# 数据分为重复，na和离群值"
   ]
  },
  {
   "cell_type": "markdown",
   "metadata": {},
   "source": [
    "### 处理重复\n"
   ]
  },
  {
   "cell_type": "code",
   "execution_count": 7,
   "metadata": {},
   "outputs": [
    {
     "name": "stdout",
     "output_type": "stream",
     "text": [
      "Count of rows: 300698\n",
      "Count of non-duplicated rows: 300698\n"
     ]
    }
   ],
   "source": [
    "# 检查重复值\n",
    "print('Count of rows: {0}'.format(df.count()))\n",
    "print('Count of non-duplicated rows: {0}'.format(df.distinct().count()))"
   ]
  },
  {
   "cell_type": "code",
   "execution_count": 8,
   "metadata": {},
   "outputs": [
    {
     "name": "stdout",
     "output_type": "stream",
     "text": [
      "300486\n"
     ]
    }
   ],
   "source": [
    "# 试试处理部分行的重复值\n",
    "# 同一件事务可能打了两次电话，但实际上内容一样\n",
    "\n",
    "total_count = df.dropDuplicates(subset = [c for c in df.columns if c not in df.columns[:3]]).count()\n",
    "print(total_count)"
   ]
  },
  {
   "cell_type": "code",
   "execution_count": 9,
   "metadata": {},
   "outputs": [],
   "source": [
    "# 处理重复值\n",
    "df = df.dropDuplicates(subset = [c for c in df.columns if c not in df.columns[:3]])"
   ]
  },
  {
   "cell_type": "markdown",
   "metadata": {},
   "source": [
    "### 处理Na"
   ]
  },
  {
   "cell_type": "code",
   "execution_count": 10,
   "metadata": {},
   "outputs": [
    {
     "name": "stdout",
     "output_type": "stream",
     "text": [
      "300486\n"
     ]
    }
   ],
   "source": [
    "# 每一行都有Na\n",
    "print(df.drop().count())"
   ]
  },
  {
   "cell_type": "code",
   "execution_count": 11,
   "metadata": {},
   "outputs": [],
   "source": [
    "# 处理na太多的列\n",
    "# 计算每列的na\n",
    "na_list = []\n",
    "for i in df.columns:\n",
    "    na_list.append(df.select(i).na.drop().count()/total_count)"
   ]
  },
  {
   "cell_type": "code",
   "execution_count": 12,
   "metadata": {},
   "outputs": [],
   "source": [
    "# 列去除na\n",
    "tmp_dict = {}\n",
    "na_cols = []\n",
    "\n",
    "for i in range(len(df.columns)):\n",
    "    tmp_dict[df.columns[i]] = na_list[i]\n",
    "\n",
    "for i in range(len(df.columns)):\n",
    "    if tmp_dict[df.columns[i]] < 0.5:\n",
    "        na_cols.append(df.columns[i])\n",
    "        \n",
    "df = df.drop(*na_cols)"
   ]
  },
  {
   "cell_type": "code",
   "execution_count": 13,
   "metadata": {},
   "outputs": [
    {
     "name": "stdout",
     "output_type": "stream",
     "text": [
      "249201\n"
     ]
    }
   ],
   "source": [
    "# 按照每行如果有na就除去\n",
    "print(df.dropna(how = 'any').count()) # na.drop和dropna等价"
   ]
  },
  {
   "cell_type": "markdown",
   "metadata": {},
   "source": [
    "### 处理离群值"
   ]
  },
  {
   "cell_type": "code",
   "execution_count": 14,
   "metadata": {},
   "outputs": [],
   "source": [
    "# 因为本数据无数字型数据不处理"
   ]
  },
  {
   "cell_type": "markdown",
   "metadata": {},
   "source": [
    "### 条形图"
   ]
  },
  {
   "cell_type": "code",
   "execution_count": 16,
   "metadata": {},
   "outputs": [],
   "source": [
    "# 对complain type 进行汇总\n",
    "hist = df.select('Complaint Type').rdd.flatMap(lambda Row: Row).map(lambda type: (type, 1)).reduceByKey(lambda a, b: a + b)"
   ]
  },
  {
   "cell_type": "code",
   "execution_count": 17,
   "metadata": {},
   "outputs": [
    {
     "data": {
      "text/plain": [
       "[('Homeless Encampment', 4415),\n",
       " ('Posting Advertisement', 650),\n",
       " ('Squeegee', 4),\n",
       " ('Drinking', 1280),\n",
       " ('Agency Issues', 6),\n",
       " ('Panhandling', 307),\n",
       " ('Animal in a Park', 1),\n",
       " ('Derelict Vehicle', 17715),\n",
       " ('Ferry Complaint', 2),\n",
       " ('Disorderly Youth', 286),\n",
       " ('Illegal Fireworks', 168),\n",
       " ('Urinating in Public', 592),\n",
       " ('Noise - House of Worship', 929),\n",
       " ('Noise - Vehicle', 17080),\n",
       " ('Blocked Driveway', 77035),\n",
       " ('Animal Abuse', 7777),\n",
       " ('Bike/Roller/Skate Chronic', 427),\n",
       " ('Noise - Commercial', 35439),\n",
       " ('Traffic', 4498),\n",
       " ('Noise - Street/Sidewalk', 48560),\n",
       " ('Graffiti', 113),\n",
       " ('Vending', 3802),\n",
       " ('Illegal Parking', 75358),\n",
       " ('Noise - Park', 4042)]"
      ]
     },
     "execution_count": 17,
     "metadata": {},
     "output_type": "execute_result"
    }
   ],
   "source": [
    "num_element = hist.collect()"
   ]
  },
  {
   "cell_type": "code",
   "execution_count": 19,
   "metadata": {},
   "outputs": [],
   "source": [
    "x = []\n",
    "y = []\n",
    "for i in num_element:\n",
    "    x.append(i[0])\n",
    "    y.append(i[1])"
   ]
  },
  {
   "cell_type": "code",
   "execution_count": 32,
   "metadata": {},
   "outputs": [],
   "source": [
    "import pandas as pd\n",
    "pd_df = pd.DataFrame(list(zip(x, y)), \n",
    "               columns =['type', 'count']).sort_values(by =['count'], ascending = False)"
   ]
  },
  {
   "cell_type": "code",
   "execution_count": 45,
   "metadata": {},
   "outputs": [
    {
     "data": {
      "image/png": "[encoded data removed]",
      "text/plain": [
       "<Figure size 432x288 with 1 Axes>"
      ]
     },
     "metadata": {
      "needs_background": "light"
     },
     "output_type": "display_data"
    }
   ],
   "source": [
    "from matplotlib import pyplot as plt\n",
    "plt.bar(pd_df['type'], pd_df['count'], width = .5)\n",
    "plt.title('Count of complain types')\n",
    "plt.xticks(rotation= 90)\n",
    "plt.show()"
   ]
  },
  {
   "cell_type": "code",
   "execution_count": null,
   "metadata": {},
   "outputs": [],
   "source": []
  },
  {
   "cell_type": "code",
   "execution_count": null,
   "metadata": {},
   "outputs": [],
   "source": []
  },
  {
   "cell_type": "code",
   "execution_count": null,
   "metadata": {},
   "outputs": [],
   "source": []
  },
  {
   "cell_type": "code",
   "execution_count": null,
   "metadata": {},
   "outputs": [],
   "source": []
  }
 ],
 "metadata": {
  "kernelspec": {
   "display_name": "Python 3",
   "language": "python",
   "name": "python3"
  },
  "language_info": {
   "codemirror_mode": {
    "name": "ipython",
    "version": 3
   },
   "file_extension": ".py",
   "mimetype": "text/x-python",
   "name": "python",
   "nbconvert_exporter": "python",
   "pygments_lexer": "ipython3",
   "version": "3.7.4"
  }
 },
 "nbformat": 4,
 "nbformat_minor": 4
}
